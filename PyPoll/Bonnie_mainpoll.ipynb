{
 "cells": [
  {
   "cell_type": "code",
   "execution_count": 1,
   "metadata": {},
   "outputs": [],
   "source": [
    "# Dependencies\n",
    "import os\n",
    "import csv"
   ]
  },
  {
   "cell_type": "code",
   "execution_count": 2,
   "metadata": {},
   "outputs": [],
   "source": [
    "# Set variables\n",
    "total_votes = 0\n",
    "list_of_names = [] #empty list\n",
    "percent_list = []\n",
    "\n",
    "# use dictionaries\n",
    "candidate_count = {} #empty dictionary\n"
   ]
  },
  {
   "cell_type": "code",
   "execution_count": 3,
   "metadata": {},
   "outputs": [],
   "source": [
    "poll_file = open(\"election_data.csv\", \"r\")"
   ]
  },
  {
   "cell_type": "code",
   "execution_count": 4,
   "metadata": {},
   "outputs": [],
   "source": [
    "# print(poll_file)"
   ]
  },
  {
   "cell_type": "code",
   "execution_count": 5,
   "metadata": {},
   "outputs": [],
   "source": [
    "poll_result = csv.reader(poll_file, delimiter= \",\")"
   ]
  },
  {
   "cell_type": "code",
   "execution_count": 6,
   "metadata": {},
   "outputs": [],
   "source": [
    "csv_header = next(poll_result)"
   ]
  },
  {
   "cell_type": "code",
   "execution_count": 7,
   "metadata": {},
   "outputs": [],
   "source": [
    "#loop through to count total number of votes\n",
    "for row in poll_result:\n",
    "    total_votes = total_votes + 1\n",
    "    \n",
    "    candidate_name = row[2] \n",
    "    if candidate_name not in list_of_names:\n",
    "        list_of_names.append(candidate_name)\n",
    "        candidate_count[candidate_name] = 0\n",
    "    candidate_count[candidate_name] = candidate_count[candidate_name] +1 "
   ]
  },
  {
   "cell_type": "code",
   "execution_count": 8,
   "metadata": {},
   "outputs": [
    {
     "name": "stdout",
     "output_type": "stream",
     "text": [
      "['Khan', 'Correy', 'Li', \"O'Tooley\"]\n",
      "3521001\n",
      "{'Khan': 2218231, 'Correy': 704200, 'Li': 492940, \"O'Tooley\": 105630}\n"
     ]
    }
   ],
   "source": [
    "print(list_of_names)\n",
    "print(total_votes)\n",
    "print(candidate_count)"
   ]
  },
  {
   "cell_type": "code",
   "execution_count": 9,
   "metadata": {},
   "outputs": [
    {
     "name": "stdout",
     "output_type": "stream",
     "text": [
      "Khan 2218231\n",
      "Correy 704200\n",
      "Li 492940\n",
      "O'Tooley 105630\n"
     ]
    }
   ],
   "source": [
    "for i in candidate_count:\n",
    "    print(i, candidate_count[i])"
   ]
  },
  {
   "cell_type": "code",
   "execution_count": 19,
   "metadata": {},
   "outputs": [
    {
     "name": "stdout",
     "output_type": "stream",
     "text": [
      "Khan : 0.63)%\n",
      "Correy : 0.20)%\n",
      "Li : 0.14)%\n",
      "O'Tooley : 0.03)%\n"
     ]
    }
   ],
   "source": [
    "for candidate_name in candidate_count:\n",
    "    percent_votes = candidate_count[candidate_name]/total_votes\n",
    "    percent_list.append(percent_votes)\n",
    "    print(f\"{candidate_name} : {percent_votes:.02f})%\")"
   ]
  },
  {
   "cell_type": "code",
   "execution_count": null,
   "metadata": {},
   "outputs": [],
   "source": [
    "# # initiate csv writer\n",
    "# vote_percentage = Khan/total_votes\n",
    "# print(vote_percentage)"
   ]
  },
  {
   "cell_type": "code",
   "execution_count": null,
   "metadata": {},
   "outputs": [],
   "source": [
    "# write how many votes each candidate received"
   ]
  }
 ],
 "metadata": {
  "kernelspec": {
   "display_name": "Python 3",
   "language": "python",
   "name": "python3"
  },
  "language_info": {
   "codemirror_mode": {
    "name": "ipython",
    "version": 3
   },
   "file_extension": ".py",
   "mimetype": "text/x-python",
   "name": "python",
   "nbconvert_exporter": "python",
   "pygments_lexer": "ipython3",
   "version": "3.7.4"
  }
 },
 "nbformat": 4,
 "nbformat_minor": 2
}
