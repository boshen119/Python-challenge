{
 "cells": [
  {
   "cell_type": "code",
   "execution_count": 1,
   "metadata": {},
   "outputs": [],
   "source": [
    "# Dependencies\n",
    "import os\n",
    "import csv"
   ]
  },
  {
   "cell_type": "code",
   "execution_count": 2,
   "metadata": {},
   "outputs": [],
   "source": [
    "# Set variables\n",
    "total_votes = 0\n",
    "list_of_names = [] #empty list\n",
    "percent_list = []\n",
    "winner = 0\n",
    "\n",
    "# use dictionaries\n",
    "candidate_count = {} #empty dictionary\n"
   ]
  },
  {
   "cell_type": "code",
   "execution_count": 3,
   "metadata": {},
   "outputs": [],
   "source": [
    "poll_file = open(\"election_data.csv\", \"r\")"
   ]
  },
  {
   "cell_type": "code",
   "execution_count": 4,
   "metadata": {},
   "outputs": [],
   "source": [
    "# print(poll_file)"
   ]
  },
  {
   "cell_type": "code",
   "execution_count": 5,
   "metadata": {},
   "outputs": [],
   "source": [
    "poll_result = csv.reader(poll_file, delimiter= \",\")"
   ]
  },
  {
   "cell_type": "code",
   "execution_count": 6,
   "metadata": {},
   "outputs": [],
   "source": [
    "csv_header = next(poll_result)"
   ]
  },
  {
   "cell_type": "code",
   "execution_count": 7,
   "metadata": {},
   "outputs": [],
   "source": [
    "#loop through to count total number of votes\n",
    "for row in poll_result:\n",
    "    total_votes = total_votes + 1\n",
    "    \n",
    "    candidate_name = row[2] \n",
    "    if candidate_name not in list_of_names:\n",
    "        list_of_names.append(candidate_name)\n",
    "        candidate_count[candidate_name] = 0\n",
    "    candidate_count[candidate_name] = candidate_count[candidate_name] +1 \n",
    "    \n",
    "    #individual_votes = candidate_count[candidate_name]"
   ]
  },
  {
   "cell_type": "code",
   "execution_count": 8,
   "metadata": {},
   "outputs": [
    {
     "name": "stdout",
     "output_type": "stream",
     "text": [
      "['Khan', 'Correy', 'Li', \"O'Tooley\"]\n",
      "3521001\n",
      "{'Khan': 2218231, 'Correy': 704200, 'Li': 492940, \"O'Tooley\": 105630}\n"
     ]
    }
   ],
   "source": [
    "print(list_of_names)\n",
    "print(total_votes)\n",
    "print(candidate_count)"
   ]
  },
  {
   "cell_type": "code",
   "execution_count": 9,
   "metadata": {},
   "outputs": [
    {
     "name": "stdout",
     "output_type": "stream",
     "text": [
      "Khan 2218231\n",
      "Correy 704200\n",
      "Li 492940\n",
      "O'Tooley 105630\n"
     ]
    }
   ],
   "source": [
    "for i in candidate_count:\n",
    "    print(i, candidate_count[i])"
   ]
  },
  {
   "cell_type": "code",
   "execution_count": 10,
   "metadata": {},
   "outputs": [
    {
     "name": "stdout",
     "output_type": "stream",
     "text": [
      "['Khan', 2218231]\n",
      "Khan\n"
     ]
    }
   ],
   "source": [
    "max_votes = [\"\", 0]\n",
    "\n",
    "for key, value in candidate_count.items():\n",
    "    #print(key)\n",
    "    #print(value)\n",
    "    if value > max_votes[1]:\n",
    "        max_votes[1] = value\n",
    "        max_votes[0] = key\n",
    "        \n",
    "print(max_votes)\n",
    "\n",
    "winner = max_votes[0]\n",
    "print(winner)"
   ]
  },
  {
   "cell_type": "code",
   "execution_count": 11,
   "metadata": {
    "scrolled": true
   },
   "outputs": [],
   "source": [
    "for candidate_name in candidate_count:\n",
    "        percent_votes = candidate_count[candidate_name]/total_votes\n",
    "        percent_list.append(percent_votes)"
   ]
  },
  {
   "cell_type": "code",
   "execution_count": 12,
   "metadata": {},
   "outputs": [],
   "source": [
    "def candidate_percentages():\n",
    "    output = \"\"\n",
    "    for index in range(0,4):\n",
    "        output += f\"{list_of_names[index]}: {percent_list[index]:.2%} ({candidate_count[list_of_names[index]]})\\n\"\n",
    "    return output"
   ]
  },
  {
   "cell_type": "code",
   "execution_count": 13,
   "metadata": {},
   "outputs": [
    {
     "name": "stdout",
     "output_type": "stream",
     "text": [
      "Khan: 63.00% (2218231)\n",
      "Correy: 20.00% (704200)\n",
      "Li: 14.00% (492940)\n",
      "O'Tooley: 3.00% (105630)\n",
      "\n"
     ]
    }
   ],
   "source": [
    "print(candidate_percentages())"
   ]
  },
  {
   "cell_type": "code",
   "execution_count": 14,
   "metadata": {},
   "outputs": [],
   "source": [
    "poll_results = candidate_percentages()"
   ]
  },
  {
   "cell_type": "code",
   "execution_count": 15,
   "metadata": {},
   "outputs": [],
   "source": [
    "final_poll_results = (\n",
    "f\"\\nElection Results\\n\"\n",
    "f\"{poll_results}\\n\"\n",
    "f\"Winner: {winner}\\n\"\n",
    ")"
   ]
  },
  {
   "cell_type": "code",
   "execution_count": 16,
   "metadata": {},
   "outputs": [
    {
     "name": "stdout",
     "output_type": "stream",
     "text": [
      "\n",
      "Election Results\n",
      "Khan: 63.00% (2218231)\n",
      "Correy: 20.00% (704200)\n",
      "Li: 14.00% (492940)\n",
      "O'Tooley: 3.00% (105630)\n",
      "\n",
      "Winner: Khan\n",
      "\n"
     ]
    }
   ],
   "source": [
    "# print(poll_results)\n",
    "print(final_poll_results)"
   ]
  },
  {
   "cell_type": "code",
   "execution_count": 17,
   "metadata": {},
   "outputs": [],
   "source": [
    "#initiate csv writer"
   ]
  },
  {
   "cell_type": "code",
   "execution_count": 18,
   "metadata": {},
   "outputs": [],
   "source": [
    "# write how many votes each candidate received\n",
    "with open(\"Final_poll_results.txt\", \"w\") as filewriter:\n",
    "    filewriter.write(final_poll_results)"
   ]
  },
  {
   "cell_type": "code",
   "execution_count": null,
   "metadata": {},
   "outputs": [],
   "source": []
  }
 ],
 "metadata": {
  "kernelspec": {
   "display_name": "Python 3",
   "language": "python",
   "name": "python3"
  },
  "language_info": {
   "codemirror_mode": {
    "name": "ipython",
    "version": 3
   },
   "file_extension": ".py",
   "mimetype": "text/x-python",
   "name": "python",
   "nbconvert_exporter": "python",
   "pygments_lexer": "ipython3",
   "version": "3.7.4"
  }
 },
 "nbformat": 4,
 "nbformat_minor": 2
}
