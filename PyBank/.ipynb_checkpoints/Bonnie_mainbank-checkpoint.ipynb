{
 "cells": [
  {
   "cell_type": "code",
   "execution_count": 1,
   "metadata": {},
   "outputs": [],
   "source": [
    "# Dependencies\n",
    "import os\n",
    "import csv"
   ]
  },
  {
   "cell_type": "code",
   "execution_count": 2,
   "metadata": {},
   "outputs": [],
   "source": [
    "#path to data worksheet\n",
    "# budget_csv = os.path (\"..\", \"PyBank\", \"budget_data.csv\")\n"
   ]
  },
  {
   "cell_type": "code",
   "execution_count": 3,
   "metadata": {},
   "outputs": [],
   "source": [
    "total_months = 0\n",
    "total_profit_loss = 0\n",
    "net_change = []\n"
   ]
  },
  {
   "cell_type": "code",
   "execution_count": 4,
   "metadata": {},
   "outputs": [],
   "source": [
    "budget_file = open(\"budget_data.csv\", \"r\")"
   ]
  },
  {
   "cell_type": "code",
   "execution_count": 5,
   "metadata": {},
   "outputs": [
    {
     "name": "stdout",
     "output_type": "stream",
     "text": [
      "<_io.TextIOWrapper name='budget_data.csv' mode='r' encoding='UTF-8'>\n"
     ]
    }
   ],
   "source": [
    "print(budget_file)"
   ]
  },
  {
   "cell_type": "code",
   "execution_count": 6,
   "metadata": {},
   "outputs": [],
   "source": [
    "csvreader = csv.reader(budget_file, delimiter= \",\")"
   ]
  },
  {
   "cell_type": "code",
   "execution_count": 7,
   "metadata": {},
   "outputs": [],
   "source": [
    "csv_header = next(csvreader)\n",
    "first_row = next(csvreader) #not skipping, already read the row\n",
    "total_months = total_months + 1\n",
    "total_profit_loss = total_profit_loss + int(first_row[1])\n",
    "previous_profit_loss = int(first_row[1])"
   ]
  },
  {
   "cell_type": "code",
   "execution_count": 8,
   "metadata": {},
   "outputs": [],
   "source": [
    "# for row in csvreader:\n",
    "#     print(row[1])"
   ]
  },
  {
   "cell_type": "code",
   "execution_count": 9,
   "metadata": {},
   "outputs": [
    {
     "name": "stdout",
     "output_type": "stream",
     "text": [
      "['Date', 'Profit/Losses']\n"
     ]
    }
   ],
   "source": [
    "print(csv_header)"
   ]
  },
  {
   "cell_type": "code",
   "execution_count": 10,
   "metadata": {},
   "outputs": [],
   "source": [
    "for row in csvreader:\n",
    "    total_months = total_months + 1\n",
    "    total_profit_loss = total_profit_loss + int(row[1])\n",
    "    change = int(row[1]) - previous_profit_loss\n",
    "    previous_profit_loss = int(row[1])\n",
    "    net_change = net_change + [change]\n",
    "#     for greatest_increase in net_change:\n",
    "#         if (previous_profit_loss + int(row[1]))> previous_profit_loss:\n",
    "#             print(greatest_increase)\n",
    "    #if change is bigger than previous change that will be your greatest increase\n",
    "    #if change is less than previous change that will be your greatest decrease"
   ]
  },
  {
   "cell_type": "code",
   "execution_count": 11,
   "metadata": {},
   "outputs": [],
   "source": [
    "# print(total_months)\n",
    "# print(total_profit_loss)\n",
    "# print(net_change)"
   ]
  },
  {
   "cell_type": "code",
   "execution_count": 12,
   "metadata": {},
   "outputs": [],
   "source": [
    "# print(len(net_change))"
   ]
  },
  {
   "cell_type": "code",
   "execution_count": 13,
   "metadata": {},
   "outputs": [],
   "source": [
    "avg = sum(net_change)/len(net_change)\n",
    "# print(avg)"
   ]
  },
  {
   "cell_type": "code",
   "execution_count": 18,
   "metadata": {},
   "outputs": [],
   "source": [
    "greatest_increase = max(net_change)"
   ]
  },
  {
   "cell_type": "code",
   "execution_count": 20,
   "metadata": {},
   "outputs": [],
   "source": [
    "greatest_decrease = min(net_change)"
   ]
  },
  {
   "cell_type": "code",
   "execution_count": 21,
   "metadata": {},
   "outputs": [],
   "source": [
    "def financial_analysis():\n",
    "    print(\"Financial_Analysis\")\n",
    "    print(\"Total Months: \")\n",
    "    print(total_months)\n",
    "    print(\"Total: \")\n",
    "    print(total_profit_loss)\n",
    "    print(\"Average Change: \")\n",
    "    print(avg)\n",
    "    print(\"Greatest Increase: \")\n",
    "    print(greatest_increase)\n",
    "    print(\"Greatest Decrease: \")\n",
    "    print(greatest_decrease)\n",
    "  "
   ]
  },
  {
   "cell_type": "code",
   "execution_count": 22,
   "metadata": {},
   "outputs": [
    {
     "name": "stdout",
     "output_type": "stream",
     "text": [
      "Financial_Analysis\n",
      "Total Months: \n",
      "86\n",
      "Total: \n",
      "38382578\n",
      "Average Change: \n",
      "-2315.1176470588234\n",
      "Greatest Increase: \n",
      "1926159\n",
      "Greatest Decrease: \n",
      "-2196167\n"
     ]
    }
   ],
   "source": [
    "financial_analysis()"
   ]
  },
  {
   "cell_type": "code",
   "execution_count": null,
   "metadata": {},
   "outputs": [],
   "source": [
    "#change decimal to 2 points\n",
    "#print increase/decrease as percentage"
   ]
  }
 ],
 "metadata": {
  "kernelspec": {
   "display_name": "Python 3",
   "language": "python",
   "name": "python3"
  },
  "language_info": {
   "codemirror_mode": {
    "name": "ipython",
    "version": 3
   },
   "file_extension": ".py",
   "mimetype": "text/x-python",
   "name": "python",
   "nbconvert_exporter": "python",
   "pygments_lexer": "ipython3",
   "version": "3.7.4"
  }
 },
 "nbformat": 4,
 "nbformat_minor": 2
}
